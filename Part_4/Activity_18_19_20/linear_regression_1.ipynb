{
 "cells": [
  {
   "cell_type": "code",
   "execution_count": 2,
   "metadata": {},
   "outputs": [],
   "source": [
    "# ------------------------------------------------------------------\n",
    "# Filename:    linear_regression_1.py\n",
    "# ------------------------------------------------------------------\n",
    "# File description:\n",
    "# Python and TensorFlow simple linear regression.\n",
    "# ------------------------------------------------------------------\n",
    "\n",
    "# ------------------------------------------------------\n",
    "# Modules to import\n",
    "# ------------------------------------------------------\n",
    "\n",
    "import tensorflow as tf\n",
    "import time\n",
    "import sys\n",
    "import matplotlib as mpl\n",
    "import matplotlib.pyplot as plt\n",
    "import numpy as np"
   ]
  },
  {
   "cell_type": "code",
   "execution_count": 17,
   "metadata": {},
   "outputs": [
    {
     "name": "stdout",
     "output_type": "stream",
     "text": [
      "----------------------------------------------------\n",
      "-- Start script run Wed May  5 18:30:32 2021\n",
      "----------------------------------------------------\n",
      "\n",
      "-- Python version     : 3.7.9 (tags/v3.7.9:13c94747c7, Aug 17 2020, 18:58:18) [MSC v.1900 64 bit (AMD64)]\n",
      "-- NumPy version      : 1.19.5\n",
      "-- TensorFlow version : 2.4.1\n",
      "-- Matplotlib version : 3.4.1\n"
     ]
    }
   ],
   "source": [
    "# ------------------------------------------------------\n",
    "# Global variables\n",
    "# ------------------------------------------------------\n",
    "\n",
    "dataset = [[0, 11], [0, 8], [10, 20], [10, 23],\n",
    "           [2, 12], [4, 10], [8, 15], [9, 19],\n",
    "           [5, 11], [5, 10], [6, 14], [7, 15]\n",
    "           ]\n",
    "\n",
    "no_of_epochs = 1000\n",
    "\n",
    "\n",
    "# ---------------------------------------------------------------\n",
    "# def train_the_model(x, y)\n",
    "# ---------------------------------------------------------------\n",
    "\n",
    "def train_the_model(x, y):\n",
    "\n",
    "    print('-- Train the model')\n",
    "\n",
    "    model = tf.keras.models.Sequential()\n",
    "    model.add(tf.keras.layers.Dense(1, input_dim=1))\n",
    "    model.compile(loss='mean_squared_error', optimizer='sgd')\n",
    "    model.fit(x, y, epochs=no_of_epochs, verbose=0)\n",
    "\n",
    "    print(model.summary())\n",
    "\n",
    "    return model\n",
    "\n",
    "\n",
    "# ---------------------------------------------------------------\n",
    "# def predict_from_model(model, to_predict)\n",
    "# ---------------------------------------------------------------\n",
    "\n",
    "def predict_from_model(model, to_predict):\n",
    "\n",
    "    print('-- Predict from the trained model')\n",
    "\n",
    "    predictions = model.predict(to_predict)\n",
    "    weights = model.get_weights()\n",
    "\n",
    "    return predictions, weights\n",
    "\n",
    "\n",
    "# ---------------------------------------------------------------\n",
    "# def display_details(weights, to_predict, predictions)\n",
    "# ---------------------------------------------------------------\n",
    "\n",
    "def display_details(weights, to_predict, predictions):\n",
    "\n",
    "    print('-- Display details')\n",
    "\n",
    "    a0 = weights[0]\n",
    "    b0 = weights[1]\n",
    "\n",
    "    a = a0[0, 0]\n",
    "    b = b0[0]\n",
    "\n",
    "    print('---------------------------------------------------')\n",
    "    print(weights)\n",
    "\n",
    "    print('-- a = ' + str(a))\n",
    "    print('-- b = ' + str(b))\n",
    "\n",
    "    if a == 0.0:\n",
    "        a_print = ''\n",
    "    else:\n",
    "        a_print = str('%.3f' % a)\n",
    "\n",
    "    if b == 0.0:\n",
    "        b_print = ''\n",
    "    elif b < 0.0:\n",
    "        b_print = str(' - %.3f' % tf.math.abs(b))\n",
    "    else:\n",
    "        b_print = str(' + %.3f' % b)\n",
    "\n",
    "    print('-- Simple linear equation estimation --------------')\n",
    "    print('-- Equation is y = ' + a_print + b_print)\n",
    "    print('---------------------------------------------------')\n",
    "\n",
    "    print('-- Predicted values of y --------------------------')\n",
    "    print('x = ' + str(to_predict))\n",
    "    print('')\n",
    "    print('y = ' + str(predictions))\n",
    "    print('---------------------------------------------------')\n",
    "\n",
    "\n",
    "# ---------------------------------------------------------------\n",
    "# def plot_data(x, y, weights, to_predict, predictions)\n",
    "# ---------------------------------------------------------------\n",
    "\n",
    "def plot_data(x, y, weights, to_predict, predictions):\n",
    "\n",
    "    print('-- Plot the data')\n",
    "\n",
    "    a = weights[0][0, 0]\n",
    "    b = weights[1][0]\n",
    "\n",
    "    x_predictions = np.arange(\n",
    "        x[tf.argmin(x)],\n",
    "        x[tf.argmax(x)],\n",
    "        0.001)\n",
    "\n",
    "    y_predictions = tf.math.add(tf.math.multiply(a, x_predictions), b)\n",
    "\n",
    "    plt.plot(x, y, 'ro')\n",
    "    plt.plot(x_predictions, y_predictions, 'g')\n",
    "    plt.plot(to_predict, predictions, 'b*')\n",
    "    plt.grid()\n",
    "    plt.title('Simple linear regression in Python and TensorFlow')\n",
    "    plt.xlabel('x data')\n",
    "    plt.ylabel('y data')\n",
    "    plt.show()\n",
    "\n",
    "\n",
    "# ------------------------------------------------------\n",
    "# def main()\n",
    "# ------------------------------------------------------\n",
    "\n",
    "\n",
    "# ------------------------------------------------------\n",
    "# -- Start of script run actions\n",
    "# ------------------------------------------------------\n",
    "\n",
    "print('----------------------------------------------------')\n",
    "print('-- Start script run ' + str(time.strftime('%c')))\n",
    "print('----------------------------------------------------\\n')\n",
    "print('-- Python version     : ' + str(sys.version))\n",
    "print('-- NumPy version      : ' + str(np.__version__))\n",
    "print('-- TensorFlow version : ' + str(tf.__version__))\n",
    "print('-- Matplotlib version : ' + str(mpl.__version__))\n"
   ]
  },
  {
   "cell_type": "code",
   "execution_count": 18,
   "metadata": {},
   "outputs": [],
   "source": [
    "\n",
    "# ------------------------------------------------------\n",
    "# -- Main script run actions\n",
    "# ------------------------------------------------------\n",
    "\n",
    "\n",
    "training_data = dataset\n",
    "\n",
    "x = [row[0] for row in training_data]\n",
    "y = [row[1] for row in training_data]"
   ]
  },
  {
   "cell_type": "code",
   "execution_count": 19,
   "metadata": {},
   "outputs": [
    {
     "name": "stdout",
     "output_type": "stream",
     "text": [
      "-- Train the model\n",
      "Model: \"sequential_3\"\n",
      "_________________________________________________________________\n",
      "Layer (type)                 Output Shape              Param #   \n",
      "=================================================================\n",
      "dense_3 (Dense)              (None, 1)                 2         \n",
      "=================================================================\n",
      "Total params: 2\n",
      "Trainable params: 2\n",
      "Non-trainable params: 0\n",
      "_________________________________________________________________\n",
      "None\n"
     ]
    }
   ],
   "source": [
    "model = train_the_model(x, y)"
   ]
  },
  {
   "cell_type": "code",
   "execution_count": 20,
   "metadata": {},
   "outputs": [
    {
     "name": "stdout",
     "output_type": "stream",
     "text": [
      "-- Predict from the trained model\n",
      "-- Training dataset --------------------------\n",
      "[[0, 11], [0, 8], [10, 20], [10, 23], [2, 12], [4, 10], [8, 15], [9, 19], [5, 11], [5, 10], [6, 14], [7, 15]]\n",
      "-- x -----------------------------------------\n",
      "[0, 0, 10, 10, 2, 4, 8, 9, 5, 5, 6, 7]\n",
      "-- y -----------------------------------------\n",
      "[11, 8, 20, 23, 12, 10, 15, 19, 11, 10, 14, 15]\n",
      "-- Model and predictions ---------------------\n",
      "-- Display details\n",
      "---------------------------------------------------\n",
      "[array([[1.1359193]], dtype=float32), array([7.7432566], dtype=float32)]\n",
      "-- a = 1.1359193\n",
      "-- b = 7.7432566\n",
      "-- Simple linear equation estimation --------------\n",
      "-- Equation is y = 1.136 + 7.743\n",
      "---------------------------------------------------\n",
      "-- Predicted values of y --------------------------\n",
      "x = [10 11 12 13]\n",
      "\n",
      "y = [[19.102451]\n",
      " [20.238369]\n",
      " [21.374289]\n",
      " [22.510208]]\n",
      "---------------------------------------------------\n",
      "----------------------------------------------\n",
      "-- Plot the data\n"
     ]
    },
    {
     "data": {
      "image/png": "[encoded data removed]",
      "text/plain": [
       "<Figure size 432x288 with 1 Axes>"
      ]
     },
     "metadata": {
      "needs_background": "light"
     },
     "output_type": "display_data"
    }
   ],
   "source": [
    "to_predict = np.array([10, 11, 12, 13])\n",
    "predictions, weights = predict_from_model(model, to_predict)\n",
    "\n",
    "print('-- Training dataset --------------------------')\n",
    "print(training_data)\n",
    "print('-- x -----------------------------------------')\n",
    "print(x)\n",
    "print('-- y -----------------------------------------')\n",
    "print(y)\n",
    "print('-- Model and predictions ---------------------')\n",
    "display_details(weights, to_predict, predictions)\n",
    "print('----------------------------------------------')\n",
    "\n",
    "plot_data(x, y, weights, to_predict, predictions)"
   ]
  },
  {
   "cell_type": "code",
   "execution_count": 21,
   "metadata": {},
   "outputs": [
    {
     "name": "stdout",
     "output_type": "stream",
     "text": [
      "----------------------------------------------------\n",
      "-- End script run Wed May  5 18:30:44 2021\n",
      "----------------------------------------------------\n",
      "\n"
     ]
    }
   ],
   "source": [
    "# ------------------------------------------------------\n",
    "# -- End of script run actions\n",
    "# ------------------------------------------------------\n",
    "\n",
    "print('----------------------------------------------------')\n",
    "print('-- End script run ' + str(time.strftime('%c')))\n",
    "print('----------------------------------------------------\\n')\n"
   ]
  }
 ],
 "metadata": {
  "kernelspec": {
   "display_name": "Python 3",
   "language": "python",
   "name": "python3"
  },
  "language_info": {
   "codemirror_mode": {
    "name": "ipython",
    "version": 3
   },
   "file_extension": ".py",
   "mimetype": "text/x-python",
   "name": "python",
   "nbconvert_exporter": "python",
   "pygments_lexer": "ipython3",
   "version": "3.7.9"
  }
 },
 "nbformat": 4,
 "nbformat_minor": 1
}
