{
 "cells": [
  {
   "cell_type": "code",
   "execution_count": 17,
   "metadata": {},
   "outputs": [],
   "source": [
    "import tensorflow as tf\n",
    "import time\n",
    "import sys\n",
    "import matplotlib as mpl\n",
    "import matplotlib.pyplot as plt\n",
    "import numpy as np"
   ]
  },
  {
   "cell_type": "code",
   "execution_count": 2,
   "metadata": {},
   "outputs": [],
   "source": [
    "# ------------------------------------------------------\n",
    "# def load_dataset(dataset)\n",
    "# ------------------------------------------------------\n",
    "def load_dataset(dataset):\n",
    "\n",
    "    (x_train, y_train), (x_test, y_test) = dataset.load_data()\n",
    "    x_train, x_test = x_train / 255.0, x_test / 255.0\n",
    "\n",
    "    print(f'>> Train: x={x_train.shape}, y={y_train.shape}')\n",
    "    print(f'>> Test : x={x_test.shape}, y={y_test.shape}')\n",
    "\n",
    "    return x_train, y_train, x_test, y_test\n",
    "\n",
    "# ------------------------------------------------------\n",
    "# def create_model()\n",
    "# ------------------------------------------------------\n",
    "def create_model():\n",
    "\n",
    "    model = tf.keras.models.Sequential(\n",
    "        [tf.keras.layers.Flatten(input_shape=(28, 28)),\n",
    "         tf.keras.layers.Dense(512, activation='relu'),\n",
    "         tf.keras.layers.Dropout(0.2),\n",
    "         tf.keras.layers.Dense(10, activation='softmax')]\n",
    "        )\n",
    "\n",
    "    return model  \n",
    "\n",
    "# ------------------------------------------------------\n",
    "# def compile_model(model)\n",
    "# ------------------------------------------------------\n",
    "def compile_model(model):\n",
    "    \n",
    "    model.compile(\n",
    "        optimizer='adam',\n",
    "        loss='sparse_categorical_crossentropy',\n",
    "        metrics=['accuracy']\n",
    "        )\n",
    "    \n",
    "    \n",
    "    # ------------------------------------------------------\n",
    "# def fit_model(model, x_train, x_train,x_test, y_test, no_of_epochs)\n",
    "# ------------------------------------------------------\n",
    "\n",
    "def fit_model(model, x_train, y_train, x_test, y_test, no_of_epochs):\n",
    "\n",
    "    history_callback = model.fit(\n",
    "        x=x_train,\n",
    "        y=y_train,\n",
    "        epochs=no_of_epochs,\n",
    "        validation_data=(x_test, y_test),\n",
    "        )\n",
    "\n",
    "    return history_callback\n",
    "\n",
    "    # ------------------------------------------------------\n",
    "# def image_prediction(model, image)\n",
    "# ------------------------------------------------------\n",
    "\n",
    "def image_prediction(model, image):\n",
    "\n",
    "    print('-- Image to predict')\n",
    "    print('Shape of image ', image.shape)\n",
    "\n",
    "    probability_model = tf.keras.Sequential([model, tf.keras.layers.Softmax()])\n",
    "    predictions = probability_model.predict(image.reshape(1, 28, 28))\n",
    "\n",
    "    print(predictions)\n",
    "\n",
    "    print('-- Predicted image')\n",
    "    print('Most probable image ', tf.argmax(predictions[0]))\n",
    "\n",
    "\n",
    "    \n",
    "    \n",
    "# ------------------------------------------------------\n",
    "# def model_save(model, model_dir)\n",
    "# ------------------------------------------------------\n",
    "\n",
    "def model_save(model, model_dir):\n",
    "\n",
    "    tf.keras.models.save_model(\n",
    "        model,\n",
    "        model_dir,\n",
    "        overwrite=True,\n",
    "        include_optimizer=True,\n",
    "        save_format=None,\n",
    "        signatures=None,\n",
    "        )\n",
    "\n",
    "\n",
    "# ------------------------------------------------------\n",
    "# def model_load(model_dir)\n",
    "# ------------------------------------------------------\n",
    "\n",
    "def model_load(model_dir):\n",
    "\n",
    "    reconstructed_model = tf.keras.models.load_model(\n",
    "        model_dir,\n",
    "        custom_objects=None,\n",
    "        compile=True,\n",
    "        )\n",
    "\n",
    "    return reconstructed_model\n",
    "\n",
    "\n",
    "# ------------------------------------------------------\n",
    "# def plot_image(image_to_predict)\n",
    "# ------------------------------------------------------\n",
    "\n",
    "def plot_image(image_to_predict):\n",
    "\n",
    "    fig, axs = plt.subplots(1, 3, figsize=(10, 4))\n",
    "    plt.suptitle('Image to predict')\n",
    "\n",
    "    axs[0].imshow(image_to_predict)\n",
    "    axs[0].set_title('Original image', fontsize=10)\n",
    "    axs[0].set_xlabel('x pixel', fontsize=10)\n",
    "    axs[0].set_ylabel('y pixel', fontsize=10)\n",
    "\n",
    "    axs[1].imshow(image_to_predict, cmap=plt.get_cmap('gray'))\n",
    "    axs[1].set_title('CMAP grayscale image', fontsize=10)\n",
    "    axs[1].set_xlabel('x pixel', fontsize=10)\n",
    "    axs[1].set_ylabel('y pixel', fontsize=10)\n",
    "    \n",
    "    axs[2].imshow(image_to_predict, cmap=plt.get_cmap('binary'))\n",
    "    axs[2].set_title('CMAP binary image', fontsize=10)\n",
    "    axs[2].set_xlabel('x pixel', fontsize=10)\n",
    "    axs[2].set_ylabel('y pixel', fontsize=10)\n",
    "\n",
    "    plt.tight_layout()\n",
    "    plt.show()\n",
    "\n",
    "    "
   ]
  },
  {
   "cell_type": "code",
   "execution_count": 10,
   "metadata": {},
   "outputs": [
    {
     "name": "stdout",
     "output_type": "stream",
     "text": [
      "----------------------------------------------------\n",
      "-- Start script run Tue Apr 20 20:15:58 2021\n",
      "----------------------------------------------------\n",
      "\n",
      "-- Python version     : 3.7.9 (tags/v3.7.9:13c94747c7, Aug 17 2020, 18:58:18) [MSC v.1900 64 bit (AMD64)]\n",
      "-- TensorFlow version : 2.4.1\n",
      "-- Matplotlib version : 3.4.1\n",
      ">> Number of epochs = 50\n"
     ]
    }
   ],
   "source": [
    "# ------------------------------------------------------\n",
    "# -- Start of script run actions\n",
    "# ------------------------------------------------------\n",
    "\n",
    "print('----------------------------------------------------')\n",
    "print('-- Start script run ' + str(time.strftime('%c')))\n",
    "print('----------------------------------------------------\\n')\n",
    "print('-- Python version     : ' + str(sys.version))\n",
    "print('-- TensorFlow version : ' + str(tf.__version__))\n",
    "print('-- Matplotlib version : ' + str(mpl.__version__))\n",
    "\n",
    "dataset = tf.keras.datasets.mnist\n",
    "no_of_epochs = 50\n",
    "\n",
    "print(f'>> Number of epochs = {no_of_epochs}')"
   ]
  },
  {
   "cell_type": "code",
   "execution_count": 4,
   "metadata": {},
   "outputs": [
    {
     "name": "stdout",
     "output_type": "stream",
     "text": [
      "\n",
      "----------------------------------------------------------\n",
      "-- 1. Load the dataset\n",
      "----------------------------------------------------------\n",
      "\n",
      ">> Train: x=(60000, 28, 28), y=(60000,)\n",
      ">> Test : x=(10000, 28, 28), y=(10000,)\n",
      "\n",
      "----------------------------------------------------------\n",
      "-- 2. Create the model\n",
      "----------------------------------------------------------\n",
      "\n"
     ]
    }
   ],
   "source": [
    "\n",
    "# ------------------------------------------------------\n",
    "# -- Main script run actions\n",
    "# ------------------------------------------------------\n",
    "\n",
    "print('\\n----------------------------------------------------------')\n",
    "print('-- 1. Load the dataset')\n",
    "print('----------------------------------------------------------\\n')\n",
    "\n",
    "(x_train, y_train, x_test, y_test) = load_dataset(dataset)\n",
    "\n",
    "print('\\n----------------------------------------------------------')\n",
    "print('-- 2. Create the model')\n",
    "print('----------------------------------------------------------\\n')\n",
    "\n",
    "model = create_model()\n"
   ]
  },
  {
   "cell_type": "code",
   "execution_count": 11,
   "metadata": {
    "scrolled": true
   },
   "outputs": [
    {
     "name": "stdout",
     "output_type": "stream",
     "text": [
      "\n",
      "----------------------------------------------------------\n",
      "-- 3. Compile the model\n",
      "----------------------------------------------------------\n",
      "\n",
      "\n",
      "----------------------------------------------------------\n",
      "-- 4. Train the model using the training data\n",
      "----------------------------------------------------------\n",
      "\n",
      "Epoch 1/50\n",
      "1875/1875 [==============================] - 4s 2ms/step - loss: 0.0109 - accuracy: 0.9962 - val_loss: 0.0959 - val_accuracy: 0.9845\n",
      "Epoch 2/50\n",
      "1875/1875 [==============================] - 3s 2ms/step - loss: 0.0150 - accuracy: 0.9949 - val_loss: 0.0853 - val_accuracy: 0.9842\n",
      "Epoch 3/50\n",
      "1875/1875 [==============================] - 3s 2ms/step - loss: 0.0102 - accuracy: 0.9968 - val_loss: 0.0916 - val_accuracy: 0.9841\n",
      "Epoch 4/50\n",
      "1875/1875 [==============================] - 3s 2ms/step - loss: 0.0112 - accuracy: 0.9968 - val_loss: 0.0926 - val_accuracy: 0.9839\n",
      "Epoch 5/50\n",
      "1875/1875 [==============================] - 3s 2ms/step - loss: 0.0105 - accuracy: 0.9965 - val_loss: 0.0946 - val_accuracy: 0.9834\n",
      "Epoch 6/50\n",
      "1875/1875 [==============================] - 3s 2ms/step - loss: 0.0110 - accuracy: 0.9965 - val_loss: 0.1009 - val_accuracy: 0.9851\n",
      "Epoch 7/50\n",
      "1875/1875 [==============================] - 3s 2ms/step - loss: 0.0100 - accuracy: 0.9971 - val_loss: 0.1006 - val_accuracy: 0.9829\n",
      "Epoch 8/50\n",
      "1875/1875 [==============================] - 4s 2ms/step - loss: 0.0110 - accuracy: 0.9967 - val_loss: 0.1052 - val_accuracy: 0.9836\n",
      "Epoch 9/50\n",
      "1875/1875 [==============================] - 3s 2ms/step - loss: 0.0115 - accuracy: 0.9968 - val_loss: 0.1175 - val_accuracy: 0.9836\n",
      "Epoch 10/50\n",
      "1875/1875 [==============================] - 4s 2ms/step - loss: 0.0110 - accuracy: 0.9967 - val_loss: 0.1220 - val_accuracy: 0.9823\n",
      "Epoch 11/50\n",
      "1875/1875 [==============================] - 3s 2ms/step - loss: 0.0116 - accuracy: 0.9966 - val_loss: 0.1079 - val_accuracy: 0.9844\n",
      "Epoch 12/50\n",
      "1875/1875 [==============================] - 3s 2ms/step - loss: 0.0085 - accuracy: 0.9973 - val_loss: 0.1239 - val_accuracy: 0.9825\n",
      "Epoch 13/50\n",
      "1875/1875 [==============================] - 3s 2ms/step - loss: 0.0116 - accuracy: 0.9963 - val_loss: 0.1212 - val_accuracy: 0.9822\n",
      "Epoch 14/50\n",
      "1875/1875 [==============================] - 4s 2ms/step - loss: 0.0093 - accuracy: 0.9971 - val_loss: 0.1260 - val_accuracy: 0.9835\n",
      "Epoch 15/50\n",
      "1875/1875 [==============================] - 3s 2ms/step - loss: 0.0108 - accuracy: 0.9968 - val_loss: 0.1199 - val_accuracy: 0.9842\n",
      "Epoch 16/50\n",
      "1875/1875 [==============================] - 3s 2ms/step - loss: 0.0071 - accuracy: 0.9978 - val_loss: 0.1274 - val_accuracy: 0.9835\n",
      "Epoch 17/50\n",
      "1875/1875 [==============================] - 4s 2ms/step - loss: 0.0102 - accuracy: 0.9972 - val_loss: 0.1320 - val_accuracy: 0.9837\n",
      "Epoch 18/50\n",
      "1875/1875 [==============================] - 3s 2ms/step - loss: 0.0067 - accuracy: 0.9977 - val_loss: 0.1260 - val_accuracy: 0.9838\n",
      "Epoch 19/50\n",
      "1875/1875 [==============================] - 3s 2ms/step - loss: 0.0118 - accuracy: 0.9965 - val_loss: 0.1506 - val_accuracy: 0.9827\n",
      "Epoch 20/50\n",
      "1875/1875 [==============================] - 3s 2ms/step - loss: 0.0107 - accuracy: 0.9966 - val_loss: 0.1486 - val_accuracy: 0.9836\n",
      "Epoch 21/50\n",
      "1875/1875 [==============================] - 4s 2ms/step - loss: 0.0095 - accuracy: 0.9974 - val_loss: 0.1397 - val_accuracy: 0.9823\n",
      "Epoch 22/50\n",
      "1875/1875 [==============================] - 3s 2ms/step - loss: 0.0097 - accuracy: 0.9974 - val_loss: 0.1433 - val_accuracy: 0.9832\n",
      "Epoch 23/50\n",
      "1875/1875 [==============================] - 3s 2ms/step - loss: 0.0101 - accuracy: 0.9975 - val_loss: 0.1376 - val_accuracy: 0.9837\n",
      "Epoch 24/50\n",
      "1875/1875 [==============================] - 3s 2ms/step - loss: 0.0067 - accuracy: 0.9981 - val_loss: 0.1383 - val_accuracy: 0.9841\n",
      "Epoch 25/50\n",
      "1875/1875 [==============================] - 3s 2ms/step - loss: 0.0119 - accuracy: 0.9967 - val_loss: 0.1423 - val_accuracy: 0.9846\n",
      "Epoch 26/50\n",
      "1875/1875 [==============================] - 3s 2ms/step - loss: 0.0070 - accuracy: 0.9981 - val_loss: 0.1532 - val_accuracy: 0.9835\n",
      "Epoch 27/50\n",
      "1875/1875 [==============================] - 3s 2ms/step - loss: 0.0069 - accuracy: 0.9979 - val_loss: 0.1260 - val_accuracy: 0.9847\n",
      "Epoch 28/50\n",
      "1875/1875 [==============================] - 3s 2ms/step - loss: 0.0077 - accuracy: 0.9979 - val_loss: 0.1518 - val_accuracy: 0.9836\n",
      "Epoch 29/50\n",
      "1875/1875 [==============================] - 3s 2ms/step - loss: 0.0054 - accuracy: 0.9987 - val_loss: 0.1475 - val_accuracy: 0.9845\n",
      "Epoch 30/50\n",
      "1875/1875 [==============================] - 4s 2ms/step - loss: 0.0085 - accuracy: 0.9978 - val_loss: 0.1508 - val_accuracy: 0.9836\n",
      "Epoch 31/50\n",
      "1875/1875 [==============================] - 3s 2ms/step - loss: 0.0090 - accuracy: 0.9973 - val_loss: 0.1596 - val_accuracy: 0.9832\n",
      "Epoch 32/50\n",
      "1875/1875 [==============================] - 4s 2ms/step - loss: 0.0079 - accuracy: 0.9979 - val_loss: 0.1611 - val_accuracy: 0.9832\n",
      "Epoch 33/50\n",
      "1875/1875 [==============================] - 3s 2ms/step - loss: 0.0090 - accuracy: 0.9977 - val_loss: 0.1505 - val_accuracy: 0.9845\n",
      "Epoch 34/50\n",
      "1875/1875 [==============================] - 3s 2ms/step - loss: 0.0074 - accuracy: 0.9980 - val_loss: 0.1593 - val_accuracy: 0.9841\n",
      "Epoch 35/50\n",
      "1875/1875 [==============================] - 3s 2ms/step - loss: 0.0068 - accuracy: 0.9983 - val_loss: 0.1577 - val_accuracy: 0.9839\n",
      "Epoch 36/50\n",
      "1875/1875 [==============================] - 3s 2ms/step - loss: 0.0067 - accuracy: 0.9983 - val_loss: 0.1591 - val_accuracy: 0.9837\n",
      "Epoch 37/50\n",
      "1875/1875 [==============================] - 3s 2ms/step - loss: 0.0094 - accuracy: 0.9977 - val_loss: 0.1749 - val_accuracy: 0.9814\n",
      "Epoch 38/50\n",
      "1875/1875 [==============================] - 3s 2ms/step - loss: 0.0097 - accuracy: 0.9974 - val_loss: 0.1417 - val_accuracy: 0.9853\n",
      "Epoch 39/50\n",
      "1875/1875 [==============================] - 3s 2ms/step - loss: 0.0076 - accuracy: 0.9981 - val_loss: 0.1558 - val_accuracy: 0.9833\n",
      "Epoch 40/50\n",
      "1875/1875 [==============================] - 3s 2ms/step - loss: 0.0073 - accuracy: 0.9982 - val_loss: 0.1535 - val_accuracy: 0.9832\n",
      "Epoch 41/50\n",
      "1875/1875 [==============================] - 3s 2ms/step - loss: 0.0068 - accuracy: 0.9983 - val_loss: 0.1651 - val_accuracy: 0.9834\n",
      "Epoch 42/50\n",
      "1875/1875 [==============================] - 3s 2ms/step - loss: 0.0116 - accuracy: 0.9971 - val_loss: 0.1434 - val_accuracy: 0.9854\n",
      "Epoch 43/50\n",
      "1875/1875 [==============================] - 4s 2ms/step - loss: 0.0045 - accuracy: 0.9987 - val_loss: 0.1615 - val_accuracy: 0.9836\n",
      "Epoch 44/50\n",
      "1875/1875 [==============================] - 3s 2ms/step - loss: 0.0093 - accuracy: 0.9976 - val_loss: 0.1586 - val_accuracy: 0.9844\n",
      "Epoch 45/50\n",
      "1875/1875 [==============================] - 4s 2ms/step - loss: 0.0046 - accuracy: 0.9987 - val_loss: 0.1675 - val_accuracy: 0.9833\n",
      "Epoch 46/50\n",
      "1875/1875 [==============================] - 3s 2ms/step - loss: 0.0065 - accuracy: 0.9984 - val_loss: 0.1578 - val_accuracy: 0.9840\n",
      "Epoch 47/50\n",
      "1875/1875 [==============================] - 3s 2ms/step - loss: 0.0056 - accuracy: 0.9983 - val_loss: 0.1525 - val_accuracy: 0.9846\n",
      "Epoch 48/50\n",
      "1875/1875 [==============================] - 4s 2ms/step - loss: 0.0095 - accuracy: 0.9978 - val_loss: 0.1724 - val_accuracy: 0.9837\n",
      "Epoch 49/50\n",
      "1875/1875 [==============================] - 3s 2ms/step - loss: 0.0078 - accuracy: 0.9980 - val_loss: 0.1663 - val_accuracy: 0.9845\n",
      "Epoch 50/50\n",
      "1875/1875 [==============================] - 4s 2ms/step - loss: 0.0070 - accuracy: 0.9980 - val_loss: 0.1615 - val_accuracy: 0.9846\n",
      "\n",
      "~~~~~~~~~~~~~~~~~~~~~~~~~~~~~~~~~~~~~~~~~~~~~~~~~~~~~\n",
      "loss         =  [0.013656196184456348, 0.014560526236891747, 0.010853957384824753, 0.011783238500356674, 0.011065622791647911, 0.010795854032039642, 0.011203342117369175, 0.010234935209155083, 0.012060537002980709, 0.009873123839497566, 0.010924933478236198, 0.010929077863693237, 0.0109986811876297, 0.009480316191911697, 0.010648947209119797, 0.008724628016352654, 0.010205576196312904, 0.007076792418956757, 0.009859064593911171, 0.010448182933032513, 0.009133398532867432, 0.009823454543948174, 0.010739922523498535, 0.008480817079544067, 0.010182907804846764, 0.007553377188742161, 0.00800852570682764, 0.0077130491845309734, 0.007511899806559086, 0.009417393244802952, 0.009831155650317669, 0.007893797010183334, 0.008565910160541534, 0.009030207991600037, 0.00860635470598936, 0.006168876308947802, 0.008903522044420242, 0.01096515916287899, 0.007955827750265598, 0.00654617277905345, 0.00836541410535574, 0.01056364644318819, 0.007013580296188593, 0.009577888064086437, 0.005846833344548941, 0.008109387941658497, 0.0072728474624454975, 0.008880222216248512, 0.007647598162293434, 0.0074582770466804504]\n",
      "accuracy     =  [0.995283305644989, 0.9951666593551636, 0.9965833425521851, 0.996233344078064, 0.9962999820709229, 0.996649980545044, 0.9964500069618225, 0.9968833327293396, 0.9964500069618225, 0.9969833493232727, 0.996833324432373, 0.9966333508491516, 0.9964500069618225, 0.997083306312561, 0.9966999888420105, 0.9974166750907898, 0.9971500039100647, 0.9979166388511658, 0.9969833493232727, 0.9966833591461182, 0.9973666667938232, 0.997083306312561, 0.9972833395004272, 0.9976833462715149, 0.9972500205039978, 0.997866690158844, 0.9977666735649109, 0.9979166388511658, 0.9980833530426025, 0.9975833296775818, 0.9972000122070312, 0.9977333545684814, 0.9977999925613403, 0.9976500272750854, 0.9977666735649109, 0.998199999332428, 0.9976999759674072, 0.9971500039100647, 0.9979333281517029, 0.9982500076293945, 0.9980999827384949, 0.9973833560943604, 0.9979666471481323, 0.9976166486740112, 0.9984666705131531, 0.9980666637420654, 0.9981833100318909, 0.9978333115577698, 0.9980000257492065, 0.9980166554450989]\n",
      "val_loss     =  [0.09591352194547653, 0.08525875955820084, 0.09159596264362335, 0.0925697535276413, 0.09456893801689148, 0.10094653069972992, 0.10062061250209808, 0.10515104979276657, 0.1174788549542427, 0.1220151036977768, 0.10792095959186554, 0.12385150045156479, 0.1212162971496582, 0.12600745260715485, 0.11988049000501633, 0.1274050921201706, 0.13202866911888123, 0.1260332465171814, 0.15064695477485657, 0.1486251950263977, 0.1396874040365219, 0.1433102786540985, 0.1375533640384674, 0.13828308880329132, 0.142291858792305, 0.15320360660552979, 0.12600469589233398, 0.1518135517835617, 0.14750491082668304, 0.1507713496685028, 0.15962384641170502, 0.16113217175006866, 0.1504807323217392, 0.15927653014659882, 0.15767213702201843, 0.15908114612102509, 0.17493179440498352, 0.14173300564289093, 0.15579383075237274, 0.15352606773376465, 0.16514240205287933, 0.14336590468883514, 0.16151612997055054, 0.1586393117904663, 0.16753345727920532, 0.15775293111801147, 0.15250293910503387, 0.17237724363803864, 0.1663329303264618, 0.16151529550552368]\n",
      "val_accuracy =  [0.984499990940094, 0.9842000007629395, 0.9840999841690063, 0.9839000105857849, 0.9833999872207642, 0.9850999712944031, 0.9829000234603882, 0.9836000204086304, 0.9836000204086304, 0.9822999835014343, 0.9843999743461609, 0.9825000166893005, 0.982200026512146, 0.9835000038146973, 0.9842000007629395, 0.9835000038146973, 0.9836999773979187, 0.9837999939918518, 0.982699990272522, 0.9836000204086304, 0.9822999835014343, 0.9832000136375427, 0.9836999773979187, 0.9840999841690063, 0.9846000075340271, 0.9835000038146973, 0.9847000241279602, 0.9836000204086304, 0.984499990940094, 0.9836000204086304, 0.9832000136375427, 0.9832000136375427, 0.984499990940094, 0.9840999841690063, 0.9839000105857849, 0.9836999773979187, 0.9814000129699707, 0.9853000044822693, 0.983299970626831, 0.9832000136375427, 0.9833999872207642, 0.9854000210762024, 0.9836000204086304, 0.9843999743461609, 0.983299970626831, 0.984000027179718, 0.9846000075340271, 0.9836999773979187, 0.984499990940094, 0.9846000075340271]\n",
      "~~~~~~~~~~~~~~~~~~~~~~~~~~~~~~~~~~~~~~~~~~~~~~~~~~~~~\n"
     ]
    }
   ],
   "source": [
    "print('\\n----------------------------------------------------------')\n",
    "print('-- 3. Compile the model')\n",
    "print('----------------------------------------------------------\\n')\n",
    "\n",
    "compile_model(model)\n",
    "\n",
    "print('\\n----------------------------------------------------------')\n",
    "print('-- 4. Train the model using the training data')\n",
    "print('----------------------------------------------------------\\n')\n",
    "\n",
    "history_callback = fit_model(model, x_train, y_train, x_test, y_test, no_of_epochs)\n",
    "\n",
    "loss_history = history_callback.history['loss']\n",
    "accuracy_history = history_callback.history['accuracy']\n",
    "val_loss_history = history_callback.history['val_loss']\n",
    "val_accuracy_history = history_callback.history['val_accuracy']\n",
    "\n",
    "print('\\n~~~~~~~~~~~~~~~~~~~~~~~~~~~~~~~~~~~~~~~~~~~~~~~~~~~~~')\n",
    "print('loss         = ', loss_history)\n",
    "print('accuracy     = ', accuracy_history)\n",
    "print('val_loss     = ', val_loss_history)\n",
    "print('val_accuracy = ', val_accuracy_history)\n",
    "print('~~~~~~~~~~~~~~~~~~~~~~~~~~~~~~~~~~~~~~~~~~~~~~~~~~~~~')\n"
   ]
  },
  {
   "cell_type": "markdown",
   "metadata": {},
   "source": [
    "## Save the model to the local storage"
   ]
  },
  {
   "cell_type": "code",
   "execution_count": 26,
   "metadata": {},
   "outputs": [
    {
     "name": "stdout",
     "output_type": "stream",
     "text": [
      "INFO:tensorflow:Assets written to: model\\assets\n"
     ]
    }
   ],
   "source": [
    "model_save(model, 'model')"
   ]
  },
  {
   "cell_type": "code",
   "execution_count": 23,
   "metadata": {
    "scrolled": false
   },
   "outputs": [
    {
     "name": "stdout",
     "output_type": "stream",
     "text": [
      "\n",
      "----------------------------------------------------------\n",
      "-- 5. Evaluate the model using the test image set\n",
      "----------------------------------------------------------\n",
      "\n",
      "313/313 - 0s - loss: 0.1615 - accuracy: 0.9846\n",
      "Test Loss:      0.16151529550552368\n",
      "Test Accuracy:  0.9846000075340271\n"
     ]
    }
   ],
   "source": [
    "print('\\n----------------------------------------------------------')\n",
    "print('-- 5. Evaluate the model using the test image set')\n",
    "print('----------------------------------------------------------\\n')\n",
    "\n",
    "test_loss, test_acc = model.evaluate(x_test, y_test, verbose=2)\n",
    "\n",
    "print('Test Loss:     ', test_loss)\n",
    "print('Test Accuracy: ', test_acc)"
   ]
  },
  {
   "cell_type": "code",
   "execution_count": 30,
   "metadata": {
    "scrolled": false
   },
   "outputs": [
    {
     "name": "stdout",
     "output_type": "stream",
     "text": [
      "\n",
      "----------------------------------------------------------\n",
      "-- 6. Predict image from the test image set using the model\n",
      "----------------------------------------------------------\n",
      "\n",
      "** Image to predict1 is x_test[ 9022 ] **\n",
      "** This image has a label y_test[ 3 ] **\n",
      "-- Image to predict\n",
      "Shape of image  (28, 28)\n",
      "WARNING:tensorflow:5 out of the last 5 calls to <function Model.make_predict_function.<locals>.predict_function at 0x000001E5D7A78288> triggered tf.function retracing. Tracing is expensive and the excessive number of tracings could be due to (1) creating @tf.function repeatedly in a loop, (2) passing tensors with different shapes, (3) passing Python objects instead of tensors. For (1), please define your @tf.function outside of the loop. For (2), @tf.function has experimental_relax_shapes=True option that relaxes argument shapes that can avoid unnecessary retracing. For (3), please refer to https://www.tensorflow.org/guide/function#controlling_retracing and https://www.tensorflow.org/api_docs/python/tf/function for  more details.\n",
      "[[0.08533674 0.08533674 0.08533674 0.23196931 0.08533674 0.08533674\n",
      "  0.08533674 0.08533674 0.08533674 0.08533674]]\n",
      "-- Predicted image\n",
      "Most probable image  tf.Tensor(3, shape=(), dtype=int64)\n",
      "\n",
      "----------------------------------------------------------\n",
      "-- 7. Plot the image to predict\n",
      "----------------------------------------------------------\n",
      "\n",
      "Image to plot is x_test[ 9022 ]\n"
     ]
    },
    {
     "data": {
      "image/png": "[encoded data removed]",
      "text/plain": [
       "<Figure size 720x288 with 3 Axes>"
      ]
     },
     "metadata": {
      "needs_background": "light"
     },
     "output_type": "display_data"
    },
    {
     "name": "stdout",
     "output_type": "stream",
     "text": [
      "----------------------------------------------------\n",
      "-- End script run Tue Apr 20 20:50:53 2021\n",
      "----------------------------------------------------\n",
      "\n"
     ]
    }
   ],
   "source": [
    "print('\\n----------------------------------------------------------')\n",
    "print('-- 6. Predict image from the test image set using the model')\n",
    "print('----------------------------------------------------------\\n')\n",
    "\n",
    "test_image_id = tf.random.uniform((), minval=0, maxval=x_test.shape[0], dtype=tf.int32)\n",
    "image_to_predict = x_test[test_image_id]\n",
    "image_to_predict_label = y_test[test_image_id]\n",
    "\n",
    "print('** Image to predict1 is x_test[', test_image_id.numpy(), '] **')\n",
    "print('** This image has a label y_test[', image_to_predict_label, '] **')\n",
    "\n",
    "image_prediction(model, image_to_predict)\n",
    "\n",
    "print('\\n----------------------------------------------------------')\n",
    "print('-- 7. Plot the image to predict')\n",
    "print('----------------------------------------------------------\\n')\n",
    "\n",
    "print('Image to plot is x_test[', test_image_id.numpy(), ']')\n",
    "\n",
    "plot_image(image_to_predict)\n",
    "\n",
    "# ------------------------------------------------------\n",
    "# -- End of script run actions\n",
    "# ------------------------------------------------------\n",
    "\n",
    "print('----------------------------------------------------')\n",
    "print('-- End script run ' + str(time.strftime('%c')))\n",
    "print('----------------------------------------------------\\n')\n"
   ]
  },
  {
   "cell_type": "markdown",
   "metadata": {},
   "source": [
    "## Load the model from the local storage"
   ]
  },
  {
   "cell_type": "code",
   "execution_count": 31,
   "metadata": {},
   "outputs": [
    {
     "name": "stdout",
     "output_type": "stream",
     "text": [
      "** Image to predict1 is x_test[ 8142 ] **\n",
      "** This image has a label y_test[ 5 ] **\n",
      "-- Image to predict\n",
      "Shape of image  (28, 28)\n",
      "WARNING:tensorflow:6 out of the last 6 calls to <function Model.make_predict_function.<locals>.predict_function at 0x000001E5D8201CA8> triggered tf.function retracing. Tracing is expensive and the excessive number of tracings could be due to (1) creating @tf.function repeatedly in a loop, (2) passing tensors with different shapes, (3) passing Python objects instead of tensors. For (1), please define your @tf.function outside of the loop. For (2), @tf.function has experimental_relax_shapes=True option that relaxes argument shapes that can avoid unnecessary retracing. For (3), please refer to https://www.tensorflow.org/guide/function#controlling_retracing and https://www.tensorflow.org/api_docs/python/tf/function for  more details.\n",
      "[[0.08533674 0.08533674 0.08533674 0.08533674 0.08533674 0.23196931\n",
      "  0.08533674 0.08533674 0.08533674 0.08533674]]\n",
      "-- Predicted image\n",
      "Most probable image  tf.Tensor(5, shape=(), dtype=int64)\n"
     ]
    },
    {
     "data": {
      "image/png": "[encoded data removed]",
      "text/plain": [
       "<Figure size 720x288 with 3 Axes>"
      ]
     },
     "metadata": {
      "needs_background": "light"
     },
     "output_type": "display_data"
    }
   ],
   "source": [
    "reconstructedModel = model_load('model')\n",
    "\n",
    "test_image_id = tf.random.uniform((), minval=0, maxval=x_test.shape[0], dtype=tf.int32)\n",
    "image_to_predict = x_test[test_image_id]\n",
    "image_to_predict_label = y_test[test_image_id]\n",
    "\n",
    "print('** Image to predict1 is x_test[', test_image_id.numpy(), '] **')\n",
    "print('** This image has a label y_test[', image_to_predict_label, '] **')\n",
    "\n",
    "image_prediction(reconstructedModel, image_to_predict)\n",
    "\n",
    "\n",
    "plot_image(image_to_predict)\n"
   ]
  }
 ],
 "metadata": {
  "kernelspec": {
   "display_name": "Python 3",
   "language": "python",
   "name": "python3"
  },
  "language_info": {
   "codemirror_mode": {
    "name": "ipython",
    "version": 3
   },
   "file_extension": ".py",
   "mimetype": "text/x-python",
   "name": "python",
   "nbconvert_exporter": "python",
   "pygments_lexer": "ipython3",
   "version": "3.7.9"
  }
 },
 "nbformat": 4,
 "nbformat_minor": 1
}
