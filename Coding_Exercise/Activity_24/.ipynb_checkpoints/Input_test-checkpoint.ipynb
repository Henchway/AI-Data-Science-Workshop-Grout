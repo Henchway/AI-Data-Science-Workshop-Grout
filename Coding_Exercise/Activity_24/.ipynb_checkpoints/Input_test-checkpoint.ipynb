{
 "cells": [
  {
   "cell_type": "code",
   "execution_count": 1,
   "metadata": {},
   "outputs": [
    {
     "name": "stdout",
     "output_type": "stream",
     "text": [
      "Welcome to the kNN algorithm, this algorithm will \n",
      "calculate the k nearest neighbors of the coordinates you'll\n",
      "enter in the next step. The x represents the x coordinate, the y represents, \n",
      "the y coordinate and the k represents the amount of neighbors to check.\n",
      "The x and y can be of type integer or float, the k value must be of type integer.\n",
      "\n",
      "Please enter x, y and k:\n",
      "x = 1\n",
      "y = 2\n",
      "k = C\n"
     ]
    },
    {
     "ename": "SystemExit",
     "evalue": "0",
     "output_type": "error",
     "traceback": [
      "An exception has occurred, use %tb to see the full traceback.\n",
      "\u001b[1;31mSystemExit\u001b[0m\u001b[1;31m:\u001b[0m 0\n"
     ]
    },
    {
     "name": "stderr",
     "output_type": "stream",
     "text": [
      "c:\\projects\\source\\python\\ai_data_science_workshop_grout\\coding_exercise\\venv\\lib\\site-packages\\IPython\\core\\interactiveshell.py:3445: UserWarning: To exit: use 'exit', 'quit', or Ctrl-D.\n",
      "  warn(\"To exit: use 'exit', 'quit', or Ctrl-D.\", stacklevel=1)\n"
     ]
    }
   ],
   "source": [
    "import sys\n",
    "\n",
    "def require_input():\n",
    "    x = input(\"x = \")\n",
    "    y = input(\"y = \")\n",
    "    k = input(\"k = \")\n",
    "    return x,y,k\n",
    "\n",
    "print(\"Welcome to the kNN algorithm, this algorithm will \\n\" +\n",
    "      \"calculate the k nearest neighbors of the coordinates you'll\\n\" +\n",
    "      \"enter in the next step. The x represents the x coordinate, the y represents, \\n\" + \n",
    "      \"the y coordinate and the k represents the amount of neighbors to check.\\n\" +\n",
    "      \"The x and y can be of type integer or float, the k value must be of type integer.\\n\")\n",
    "\n",
    "print(\"Please enter x, y and k:\")\n",
    "x,y,k = require_input()\n",
    "\n",
    "while type(x) not in (int,float) or type(y) not in (int, float) or type(k) != int:\n",
    "    if \"C\" in(x, y, k):\n",
    "        quit()\n",
    "    try:\n",
    "        x = float(x)\n",
    "        y = float(y)\n",
    "        k = int(k)\n",
    "    except:\n",
    "        print(\"Unable to read the numbers you entered, please try again or enter C to cancel:\")\n",
    "        x,y,k = require_input()\n",
    "\n",
    "\n",
    "\n",
    "\n",
    "\n",
    "# parsed_input_data = dict()\n",
    "\n"
   ]
  },
  {
   "cell_type": "code",
   "execution_count": null,
   "metadata": {},
   "outputs": [],
   "source": []
  }
 ],
 "metadata": {
  "kernelspec": {
   "display_name": "Python 3",
   "language": "python",
   "name": "python3"
  },
  "language_info": {
   "codemirror_mode": {
    "name": "ipython",
    "version": 3
   },
   "file_extension": ".py",
   "mimetype": "text/x-python",
   "name": "python",
   "nbconvert_exporter": "python",
   "pygments_lexer": "ipython3",
   "version": "3.7.9"
  }
 },
 "nbformat": 4,
 "nbformat_minor": 1
}
