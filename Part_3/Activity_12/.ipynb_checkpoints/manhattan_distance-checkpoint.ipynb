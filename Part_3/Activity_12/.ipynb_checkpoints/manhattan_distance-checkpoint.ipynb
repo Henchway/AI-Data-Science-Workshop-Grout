{
 "cells": [
  {
   "cell_type": "code",
   "execution_count": 15,
   "metadata": {},
   "outputs": [
    {
     "name": "stdout",
     "output_type": "stream",
     "text": [
      "tf.Tensor(\n",
      "[[1. 1.]\n",
      " [1. 4.]\n",
      " [1. 5.]\n",
      " [2. 2.]\n",
      " [2. 3.]\n",
      " [2. 5.]\n",
      " [4. 3.]\n",
      " [5. 1.]], shape=(8, 2), dtype=float32)\n",
      "tf.Tensor([3.5 2.5 3.5 1.5 0.5 2.5 1.5 4.5], shape=(8,), dtype=float32)\n"
     ]
    }
   ],
   "source": [
    "import os\n",
    "import matplotlib.pyplot as plt\n",
    "os.environ['TF_CPP_MIN_LOG_LEVEL'] = '2'\n",
    "\n",
    "import tensorflow as tf\n",
    "\n",
    "k_value = tf.constant(3)\n",
    "\n",
    "data_point = tf.constant([2.5, 3.])\n",
    "\n",
    "dataset = tf.constant([[1, 1], [1, 4], [1, 5], [2, 2],[2, 3], [2, 5], [4, 3], [5, 1]],\n",
    "                      dtype=tf.float32)\n",
    "\n",
    "neg_one = tf.constant(-1.0, dtype=tf.float32)\n",
    "distance = tf.reduce_sum(tf.abs(tf.subtract(dataset, data_point)), 1)\n",
    "print(dataset)\n",
    "print(distance)\n"
   ]
  },
  {
   "cell_type": "code",
   "execution_count": 16,
   "metadata": {},
   "outputs": [
    {
     "data": {
      "text/plain": [
       "<tf.Tensor: shape=(8,), dtype=float32, numpy=array([-3.5, -2.5, -3.5, -1.5, -0.5, -2.5, -1.5, -4.5], dtype=float32)>"
      ]
     },
     "execution_count": 16,
     "metadata": {},
     "output_type": "execute_result"
    }
   ],
   "source": [
    "neg_distance = tf.math.scalar_mul(neg_one, distance)\n",
    "neg_distance"
   ]
  },
  {
   "cell_type": "code",
   "execution_count": 17,
   "metadata": {},
   "outputs": [
    {
     "data": {
      "text/plain": [
       "<tf.Tensor: shape=(3,), dtype=int32, numpy=array([4, 3, 6])>"
      ]
     },
     "execution_count": 17,
     "metadata": {},
     "output_type": "execute_result"
    }
   ],
   "source": [
    "# val, val_index = tf.nn.top_k(neg_distance, k_value)\n",
    "val, val_index = tf.math.top_k(neg_distance, k_value)\n",
    "val_index"
   ]
  },
  {
   "cell_type": "code",
   "execution_count": 18,
   "metadata": {},
   "outputs": [
    {
     "data": {
      "text/plain": [
       "<tf.Tensor: shape=(3, 2), dtype=float32, numpy=\n",
       "array([[2., 3.],\n",
       "       [2., 2.],\n",
       "       [4., 3.]], dtype=float32)>"
      ]
     },
     "execution_count": 18,
     "metadata": {},
     "output_type": "execute_result"
    }
   ],
   "source": [
    "nearest_neighbors = tf.gather(dataset, val_index)\n",
    "nearest_neighbors"
   ]
  },
  {
   "cell_type": "code",
   "execution_count": 19,
   "metadata": {},
   "outputs": [
    {
     "data": {
      "image/png": "[encoded data removed]",
      "text/plain": [
       "<Figure size 1080x720 with 1 Axes>"
      ]
     },
     "metadata": {
      "needs_background": "light"
     },
     "output_type": "display_data"
    }
   ],
   "source": [
    "#filled_markers = ('o', 'v', '^', '<', '>', '8', 's', 'p', '*', 'h', 'H', 'D', 'd', 'P', 'X')\n",
    "plt.figure(figsize=(15,10))\n",
    "plt.scatter(dataset[:,0], dataset[:,1], label=\"Neighbors\", marker=\"o\",c=\"y\", s=200)\n",
    "plt.scatter(data_point[0],data_point[1], label=\"Data point\", marker = \"x\", s=100)\n",
    "plt.scatter(nearest_neighbors[:,0],nearest_neighbors[:,1], label=\"Nearest neighbors\", marker=\"o\",c=\"r\", s=50)\n",
    "plt.legend()\n",
    "plt.show()\n",
    "plt.savefig('books_read.png')"
   ]
  },
  {
   "cell_type": "code",
   "execution_count": null,
   "metadata": {},
   "outputs": [],
   "source": []
  }
 ],
 "metadata": {
  "kernelspec": {
   "display_name": "Python 3",
   "language": "python",
   "name": "python3"
  },
  "language_info": {
   "codemirror_mode": {
    "name": "ipython",
    "version": 3
   },
   "file_extension": ".py",
   "mimetype": "text/x-python",
   "name": "python",
   "nbconvert_exporter": "python",
   "pygments_lexer": "ipython3",
   "version": "3.9.2"
  }
 },
 "nbformat": 4,
 "nbformat_minor": 1
}
